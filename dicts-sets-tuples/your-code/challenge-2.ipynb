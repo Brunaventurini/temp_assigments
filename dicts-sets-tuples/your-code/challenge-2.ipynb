{
 "cells": [
  {
   "cell_type": "markdown",
   "metadata": {},
   "source": [
    "## Challenge 2: Sets\n",
    "\n",
    "There are a lot to learn about Python Sets and the information presented in the lesson is limited due to its length. To learn Python Sets in depth you are strongly encouraged to review the W3Schools tutorial on [Python Sets Examples and Methods](https://www.w3schools.com/python/python_sets.asp) before you work on this lab. Some difficult questions in this lab have their solutions in the W3Schools tutorial.\n",
    "\n",
    "#### First, import the Python `random` library."
   ]
  },
  {
   "cell_type": "code",
   "execution_count": 1,
   "metadata": {},
   "outputs": [],
   "source": [
    "import random"
   ]
  },
  {
   "cell_type": "markdown",
   "metadata": {},
   "source": [
    "#### In the cell below, create a list named `sample_list_1` with 80 random values. \n",
    "\n",
    "Requirements:\n",
    "\n",
    "* Each value is an integer falling between 0 and 100.\n",
    "* Each value in the list is unique.\n",
    "\n",
    "Print `sample_list_1` to review its values\n",
    "\n",
    "*Hint: use `random.sample` ([reference](https://docs.python.org/3/library/random.html#random.sample)).*"
   ]
  },
  {
   "cell_type": "code",
   "execution_count": 2,
   "metadata": {},
   "outputs": [
    {
     "name": "stdout",
     "output_type": "stream",
     "text": [
      "[100, 33, 21, 14, 52, 76, 68, 90, 65, 41, 39, 79, 66, 49, 94, 7, 5, 48, 26, 38, 35, 62, 43, 36, 10, 23, 16, 29, 40, 34, 22, 13, 8, 1, 12, 20, 88, 4, 3, 42, 92, 0, 50, 28, 77, 73, 71, 31, 69, 78, 30, 32, 97, 37, 57, 17, 81, 45, 55, 56, 67, 60, 80, 54, 6, 25, 47, 63, 58, 27, 64, 15, 86, 98, 84, 89, 75, 74, 85, 96]\n"
     ]
    }
   ],
   "source": [
    "# Generate 80 unique random integers between 0 and 100\n",
    "sample_list_1 = random.sample(range(101), 80)\n",
    "\n",
    "# Print the list to review its values\n",
    "print(sample_list_1)\n"
   ]
  },
  {
   "cell_type": "markdown",
   "metadata": {},
   "source": [
    "#### Convert `sample_list_1` to a set called `set1`. Print the length of the set. Is its length still 80?"
   ]
  },
  {
   "cell_type": "code",
   "execution_count": 3,
   "metadata": {},
   "outputs": [
    {
     "name": "stdout",
     "output_type": "stream",
     "text": [
      "Length of set1: 80\n"
     ]
    }
   ],
   "source": [
    "# Convert sample_list_1 to a set\n",
    "set1 = set(sample_list_1)\n",
    "\n",
    "# Print the length of set1\n",
    "print(\"Length of set1:\", len(set1))"
   ]
  },
  {
   "cell_type": "markdown",
   "metadata": {},
   "source": [
    "#### Create another list named `sample_list_2` with 80 random values.\n",
    "\n",
    "Requirements:\n",
    "\n",
    "* Each value is an integer falling between 0 and 100.\n",
    "* The values in the list don't have to be unique.\n",
    "\n",
    "*Hint: Use a FOR loop.*"
   ]
  },
  {
   "cell_type": "code",
   "execution_count": 4,
   "metadata": {},
   "outputs": [
    {
     "name": "stdout",
     "output_type": "stream",
     "text": [
      "[65, 9, 76, 74, 21, 38, 49, 92, 29, 7, 88, 78, 2, 71, 26, 49, 61, 99, 13, 48, 26, 91, 45, 86, 88, 84, 9, 28, 69, 2, 40, 18, 22, 59, 21, 43, 97, 57, 70, 13, 36, 52, 44, 49, 92, 79, 44, 55, 88, 45, 86, 95, 45, 72, 17, 68, 10, 96, 18, 41, 51, 22, 34, 16, 74, 46, 55, 59, 57, 66, 21, 23, 80, 94, 89, 94, 41, 23, 8, 35]\n"
     ]
    }
   ],
   "source": [
    "import random\n",
    "\n",
    "# Create an empty list to store the random values\n",
    "sample_list_2 = []\n",
    "\n",
    "# Use a for loop to generate 80 random integers between 0 and 100\n",
    "for _ in range(80):\n",
    "    random_value = random.randint(0, 100)\n",
    "    sample_list_2.append(random_value)\n",
    "\n",
    "# Print sample_list_2 to review its values\n",
    "print(sample_list_2)\n"
   ]
  },
  {
   "cell_type": "markdown",
   "metadata": {},
   "source": [
    "#### Convert `sample_list_2` to a set called `set2`. Print the length of the set. Is its length still 80?"
   ]
  },
  {
   "cell_type": "code",
   "execution_count": 5,
   "metadata": {},
   "outputs": [
    {
     "name": "stdout",
     "output_type": "stream",
     "text": [
      "Length of set2: 56\n"
     ]
    }
   ],
   "source": [
    "# Convert sample_list_2 to a set\n",
    "set2 = set(sample_list_2)\n",
    "\n",
    "# Print the length of set2\n",
    "print(\"Length of set2:\", len(set2))"
   ]
  },
  {
   "cell_type": "markdown",
   "metadata": {},
   "source": [
    "#### Identify the elements present in `set1` but not in `set2`. Assign the elements to a new set named `set3`."
   ]
  },
  {
   "cell_type": "code",
   "execution_count": 7,
   "metadata": {},
   "outputs": [
    {
     "name": "stdout",
     "output_type": "stream",
     "text": [
      "Elements in set1 but not in set2 (set3): {0, 1, 3, 4, 5, 6, 12, 14, 15, 20, 25, 27, 30, 31, 32, 33, 37, 39, 42, 47, 50, 54, 56, 58, 60, 62, 63, 64, 67, 73, 75, 77, 81, 85, 90, 98, 100}\n"
     ]
    }
   ],
   "source": [
    "# Identify elements in set1 but not in set2\n",
    "set3 = set1 - set2\n",
    "\n",
    "# Print set3 to see its elements\n",
    "print(\"Elements in set1 but not in set2 (set3):\", set3)\n"
   ]
  },
  {
   "cell_type": "markdown",
   "metadata": {},
   "source": [
    "#### Identify the elements present in `set2` but not in `set1`. Assign the elements to a new set named `set4`."
   ]
  },
  {
   "cell_type": "code",
   "execution_count": 8,
   "metadata": {},
   "outputs": [
    {
     "name": "stdout",
     "output_type": "stream",
     "text": [
      "Elements in set2 but not in set1 (set4): {2, 99, 70, 72, 9, 91, 44, 46, 18, 51, 59, 61, 95}\n"
     ]
    }
   ],
   "source": [
    "# Identify elements in set2 but not in set1\n",
    "set4 = set2 - set1\n",
    "\n",
    "# Print set4 to see its elements\n",
    "print(\"Elements in set2 but not in set1 (set4):\", set4)"
   ]
  },
  {
   "cell_type": "markdown",
   "metadata": {},
   "source": [
    "#### Now Identify the elements shared between `set1` and `set2`. Assign the elements to a new set named `set5`."
   ]
  },
  {
   "cell_type": "code",
   "execution_count": 9,
   "metadata": {},
   "outputs": [
    {
     "name": "stdout",
     "output_type": "stream",
     "text": [
      "Elements shared between set1 and set2 (set5): {7, 8, 10, 13, 16, 17, 21, 22, 23, 26, 28, 29, 34, 35, 36, 38, 40, 41, 43, 45, 48, 49, 52, 55, 57, 65, 66, 68, 69, 71, 74, 76, 78, 79, 80, 84, 86, 88, 89, 92, 94, 96, 97}\n"
     ]
    }
   ],
   "source": [
    "# Identify elements shared between set1 and set2\n",
    "set5 = set1.intersection(set2)\n",
    "\n",
    "# Print set5 to see its elements\n",
    "print(\"Elements shared between set1 and set2 (set5):\", set5)"
   ]
  },
  {
   "cell_type": "markdown",
   "metadata": {},
   "source": [
    "#### What is the relationship among the following values:\n",
    "\n",
    "* len(set1)\n",
    "* len(set2)\n",
    "* len(set3)\n",
    "* len(set4)\n",
    "* len(set5)\n",
    "\n",
    "Use a math formular to represent that relationship. Test your formular with Python code."
   ]
  },
  {
   "cell_type": "code",
   "execution_count": 10,
   "metadata": {},
   "outputs": [
    {
     "name": "stdout",
     "output_type": "stream",
     "text": [
      "Does the relationship hold? False\n"
     ]
    }
   ],
   "source": [
    "# Calculate the lengths of the sets\n",
    "len_set1 = len(set1)\n",
    "len_set2 = len(set2)\n",
    "len_set3 = len(set3)\n",
    "len_set4 = len(set4)\n",
    "len_set5 = len(set5)\n",
    "\n",
    "# Test the relationship\n",
    "relationship_holds = (\n",
    "    len_set1 + len_set4 == len_set2 + len_set3 == len_set5 + len_set3 == len_set1 + len_set2\n",
    ")\n",
    "\n",
    "print(\"Does the relationship hold?\", relationship_holds)"
   ]
  },
  {
   "cell_type": "markdown",
   "metadata": {},
   "source": [
    "#### Create an empty set called `set6`."
   ]
  },
  {
   "cell_type": "code",
   "execution_count": 11,
   "metadata": {},
   "outputs": [],
   "source": [
    "set6 = set()"
   ]
  },
  {
   "cell_type": "markdown",
   "metadata": {},
   "source": [
    "#### Add `set3` and `set5` to `set6` using the Python Set `update` method."
   ]
  },
  {
   "cell_type": "code",
   "execution_count": 12,
   "metadata": {},
   "outputs": [
    {
     "name": "stdout",
     "output_type": "stream",
     "text": [
      "set6 after adding set3 and set5: {0, 1, 3, 4, 5, 6, 7, 8, 10, 12, 13, 14, 15, 16, 17, 20, 21, 22, 23, 25, 26, 27, 28, 29, 30, 31, 32, 33, 34, 35, 36, 37, 38, 39, 40, 41, 42, 43, 45, 47, 48, 49, 50, 52, 54, 55, 56, 57, 58, 60, 62, 63, 64, 65, 66, 67, 68, 69, 71, 73, 74, 75, 76, 77, 78, 79, 80, 81, 84, 85, 86, 88, 89, 90, 92, 94, 96, 97, 98, 100}\n"
     ]
    }
   ],
   "source": [
    "# Create an empty set called set6\n",
    "set6 = set()\n",
    "\n",
    "# Add the elements of set3 and set5 to set6 using the update method\n",
    "set6.update(set3)\n",
    "set6.update(set5)\n",
    "\n",
    "# Print set6 to see its elements\n",
    "print(\"set6 after adding set3 and set5:\", set6)"
   ]
  },
  {
   "cell_type": "markdown",
   "metadata": {},
   "source": [
    "#### Check if `set1` and `set6` are equal."
   ]
  },
  {
   "cell_type": "code",
   "execution_count": 13,
   "metadata": {},
   "outputs": [
    {
     "name": "stdout",
     "output_type": "stream",
     "text": [
      "Are set1 and set6 equal? True\n"
     ]
    }
   ],
   "source": [
    "# Check if set1 and set6 are equal\n",
    "are_equal = set1 == set6\n",
    "\n",
    "# Print the result\n",
    "print(\"Are set1 and set6 equal?\", are_equal)"
   ]
  },
  {
   "cell_type": "markdown",
   "metadata": {},
   "source": [
    "#### Check if `set1` contains `set2` using the Python Set `issubset` method. Then check if `set1` contains `set3`.*"
   ]
  },
  {
   "cell_type": "code",
   "execution_count": 14,
   "metadata": {},
   "outputs": [
    {
     "name": "stdout",
     "output_type": "stream",
     "text": [
      "Is set2 a subset of set1? False\n",
      "Is set3 a subset of set1? True\n"
     ]
    }
   ],
   "source": [
    "# Check if set2 is a subset of set1\n",
    "is_set2_subset = set2.issubset(set1)\n",
    "\n",
    "# Check if set3 is a subset of set1\n",
    "is_set3_subset = set3.issubset(set1)\n",
    "\n",
    "# Print the results\n",
    "print(\"Is set2 a subset of set1?\", is_set2_subset)\n",
    "print(\"Is set3 a subset of set1?\", is_set3_subset)"
   ]
  },
  {
   "cell_type": "markdown",
   "metadata": {},
   "source": [
    "#### Using the Python Set `union` method, aggregate `set3`, `set4`, and `set5`. Then aggregate `set1` and `set2`. \n",
    "\n",
    "#### Check if the aggregated values are equal."
   ]
  },
  {
   "cell_type": "code",
   "execution_count": 15,
   "metadata": {},
   "outputs": [
    {
     "name": "stdout",
     "output_type": "stream",
     "text": [
      "Are the aggregated sets equal? True\n"
     ]
    }
   ],
   "source": [
    "# Aggregate set3, set4, and set5 using the union method\n",
    "aggregated_set1 = set3.union(set4, set5)\n",
    "\n",
    "# Aggregate set1 and set2 using the union method\n",
    "aggregated_set2 = set1.union(set2)\n",
    "\n",
    "# Check if the aggregated sets are equal\n",
    "are_aggregated_sets_equal = aggregated_set1 == aggregated_set2\n",
    "\n",
    "# Print the result\n",
    "print(\"Are the aggregated sets equal?\", are_aggregated_sets_equal)"
   ]
  },
  {
   "cell_type": "markdown",
   "metadata": {},
   "source": [
    "#### Using the `pop` method, remove the first element from `set1`."
   ]
  },
  {
   "cell_type": "code",
   "execution_count": 16,
   "metadata": {},
   "outputs": [
    {
     "name": "stdout",
     "output_type": "stream",
     "text": [
      "Removed element: 0\n",
      "Updated set1: {1, 3, 4, 5, 6, 7, 8, 10, 12, 13, 14, 15, 16, 17, 20, 21, 22, 23, 25, 26, 27, 28, 29, 30, 31, 32, 33, 34, 35, 36, 37, 38, 39, 40, 41, 42, 43, 45, 47, 48, 49, 50, 52, 54, 55, 56, 57, 58, 60, 62, 63, 64, 65, 66, 67, 68, 69, 71, 73, 74, 75, 76, 77, 78, 79, 80, 81, 84, 85, 86, 88, 89, 90, 92, 94, 96, 97, 98, 100}\n"
     ]
    }
   ],
   "source": [
    "# Remove and get an arbitrary element from set1\n",
    "removed_element = set1.pop()\n",
    "\n",
    "# Print the removed element and the updated set1\n",
    "print(\"Removed element:\", removed_element)\n",
    "print(\"Updated set1:\", set1)"
   ]
  },
  {
   "cell_type": "markdown",
   "metadata": {},
   "source": [
    "#### Remove every element in the following list from `set1` if they are present in the set. Print the remaining elements.\n",
    "\n",
    "```\n",
    "list_to_remove = [1, 9, 11, 19, 21, 29, 31, 39, 41, 49, 51, 59, 61, 69, 71, 79, 81, 89, 91, 99]\n",
    "```"
   ]
  },
  {
   "cell_type": "code",
   "execution_count": 17,
   "metadata": {},
   "outputs": [
    {
     "name": "stdout",
     "output_type": "stream",
     "text": [
      "Remaining elements in set1: {3, 4, 5, 6, 7, 8, 10, 12, 13, 14, 15, 16, 17, 20, 22, 23, 25, 26, 27, 28, 30, 32, 33, 34, 35, 36, 37, 38, 40, 42, 43, 45, 47, 48, 50, 52, 54, 55, 56, 57, 58, 60, 62, 63, 64, 65, 66, 67, 68, 73, 74, 75, 76, 77, 78, 80, 84, 85, 86, 88, 90, 92, 94, 96, 97, 98, 100}\n"
     ]
    }
   ],
   "source": [
    "list_to_remove = [1, 9, 11, 19, 21, 29, 31, 39, 41, 49, 51, 59, 61, 69, 71, 79, 81, 89, 91, 99]\n",
    "\n",
    "# Iterate through the elements in list_to_remove\n",
    "for item in list_to_remove:\n",
    "    if item in set1:\n",
    "        set1.remove(item)\n",
    "\n",
    "# Print the remaining elements in set1\n",
    "print(\"Remaining elements in set1:\", set1)"
   ]
  },
  {
   "cell_type": "code",
   "execution_count": null,
   "metadata": {},
   "outputs": [],
   "source": []
  }
 ],
 "metadata": {
  "kernelspec": {
   "display_name": "Python [conda env:m1_env]",
   "language": "python",
   "name": "conda-env-m1_env-py"
  },
  "language_info": {
   "codemirror_mode": {
    "name": "ipython",
    "version": 3
   },
   "file_extension": ".py",
   "mimetype": "text/x-python",
   "name": "python",
   "nbconvert_exporter": "python",
   "pygments_lexer": "ipython3",
   "version": "3.9.16"
  }
 },
 "nbformat": 4,
 "nbformat_minor": 2
}
