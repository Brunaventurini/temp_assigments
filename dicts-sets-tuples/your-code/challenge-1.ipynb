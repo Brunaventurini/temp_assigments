{
 "cells": [
  {
   "cell_type": "markdown",
   "metadata": {},
   "source": [
    "## Challenge 1: Tuples\n",
    "\n",
    "#### Do you know you can create tuples with only one element?\n",
    "\n",
    "**In the cell below, define a variable `tup` with a single element `\"I\"`.**\n",
    "\n",
    "*Hint: you need to add a comma (`,`) after the single element.*"
   ]
  },
  {
   "cell_type": "code",
   "execution_count": 1,
   "metadata": {},
   "outputs": [],
   "source": [
    "tup = (\"I\",)"
   ]
  },
  {
   "cell_type": "markdown",
   "metadata": {},
   "source": [
    "#### Print the type of `tup`. \n",
    "\n",
    "Make sure its type is correct (i.e. *tuple* instead of *str*)."
   ]
  },
  {
   "cell_type": "code",
   "execution_count": 2,
   "metadata": {},
   "outputs": [
    {
     "name": "stdout",
     "output_type": "stream",
     "text": [
      "<class 'tuple'>\n"
     ]
    }
   ],
   "source": [
    "tup = (\"I\",)\n",
    "print(type(tup))"
   ]
  },
  {
   "cell_type": "markdown",
   "metadata": {},
   "source": [
    "#### Now try to append the following elements to `tup`. \n",
    "\n",
    "Are you able to do it? Explain.\n",
    "\n",
    "```\n",
    "\"r\", \"o\", \"n\", \"h\", \"a\", \"c\", \"k',\n",
    "```"
   ]
  },
  {
   "cell_type": "code",
   "execution_count": 3,
   "metadata": {},
   "outputs": [
    {
     "name": "stdout",
     "output_type": "stream",
     "text": [
      "['I', 'r', 'o', 'n', 'h', 'a', 'c', 'k']\n"
     ]
    }
   ],
   "source": [
    "tup = [\"I\"]\n",
    "elements_to_append = [\"r\", \"o\", \"n\", \"h\", \"a\", \"c\", \"k\"]\n",
    "tup.extend(elements_to_append)\n",
    "\n",
    "# Printing the result\n",
    "print(tup)\n"
   ]
  },
  {
   "cell_type": "markdown",
   "metadata": {},
   "source": [
    "#### How about re-assign a new value to an existing tuple?\n",
    "\n",
    "Re-assign the following elements to `tup`. Are you able to do it? Explain.\n",
    "\n",
    "```\n",
    "\"I\", \"r\", \"o\", \"n\", \"h\", \"a\", \"c\", \"k\"\n",
    "```"
   ]
  },
  {
   "cell_type": "code",
   "execution_count": 4,
   "metadata": {},
   "outputs": [
    {
     "name": "stdout",
     "output_type": "stream",
     "text": [
      "('I', 'r', 'o', 'n', 'h', 'a', 'c', 'k')\n"
     ]
    }
   ],
   "source": [
    "tup = (\"I\",)\n",
    "new_elements = (\"r\", \"o\", \"n\", \"h\", \"a\", \"c\", \"k\")\n",
    "tup = tup + new_elements\n",
    "\n",
    "# Printing the result\n",
    "print(tup)"
   ]
  },
  {
   "cell_type": "markdown",
   "metadata": {},
   "source": [
    "#### Split `tup` into `tup1` and `tup2` with 4 elements in each. \n",
    "\n",
    "`tup1` should be `(\"I\", \"r\", \"o\", \"n\")` and `tup2` should be `(\"h\", \"a\", \"c\", \"k\")`.\n",
    "\n",
    "*Hint: use positive index numbers for `tup1` assignment and use negative index numbers for `tup2` assignment. Positive index numbers count from the beginning whereas negative index numbers count from the end of the sequence.*\n",
    "\n",
    "Also print `tup1` and `tup2`."
   ]
  },
  {
   "cell_type": "code",
   "execution_count": 5,
   "metadata": {},
   "outputs": [
    {
     "name": "stdout",
     "output_type": "stream",
     "text": [
      "tup1: ('I', 'r', 'o', 'n')\n",
      "tup2: ('h', 'a', 'c', 'k')\n"
     ]
    }
   ],
   "source": [
    "# Your code here\n",
    "tup = ('I', 'r', 'o', 'n', 'h', 'a', 'c', 'k')\n",
    "\n",
    "# Using positive index numbers for tup1\n",
    "tup1 = tup[:4]\n",
    "\n",
    "# Using negative index numbers for tup2\n",
    "tup2 = tup[-4:]\n",
    "\n",
    "# Printing tup1 and tup2\n",
    "print(\"tup1:\", tup1)\n",
    "print(\"tup2:\", tup2)"
   ]
  },
  {
   "cell_type": "markdown",
   "metadata": {},
   "source": [
    "#### Add `tup1` and `tup2` into `tup3` using the `+` operator.\n",
    "\n",
    "Then print `tup3` and check if `tup3` equals to `tup`."
   ]
  },
  {
   "cell_type": "code",
   "execution_count": 6,
   "metadata": {},
   "outputs": [
    {
     "name": "stdout",
     "output_type": "stream",
     "text": [
      "tup3: ('I', 'r', 'o', 'n', 'h', 'a', 'c', 'k')\n",
      "Is tup3 equal to tup? True\n"
     ]
    }
   ],
   "source": [
    "tup1 = ('I', 'r', 'o', 'n')\n",
    "tup2 = ('h', 'a', 'c', 'k')\n",
    "\n",
    "# Adding tup1 and tup2 to create tup3\n",
    "tup3 = tup1 + tup2\n",
    "\n",
    "# Printing tup3\n",
    "print(\"tup3:\", tup3)\n",
    "\n",
    "# Checking if tup3 equals tup\n",
    "is_equal = tup3 == tup\n",
    "print(\"Is tup3 equal to tup?\", is_equal)"
   ]
  },
  {
   "cell_type": "markdown",
   "metadata": {},
   "source": [
    "#### Count the number of elements in `tup1` and `tup2`. Then add the two counts together and check if the sum is the same as the number of elements in `tup3`."
   ]
  },
  {
   "cell_type": "code",
   "execution_count": 7,
   "metadata": {},
   "outputs": [
    {
     "name": "stdout",
     "output_type": "stream",
     "text": [
      "Number of elements in tup1: 4\n",
      "Number of elements in tup2: 4\n",
      "Total count of elements: 8\n",
      "Is the total count equal to the number of elements in tup3? True\n"
     ]
    }
   ],
   "source": [
    "# Count the number of elements in tup1 and tup2\n",
    "count_tup1 = len(tup1)\n",
    "count_tup2 = len(tup2)\n",
    "\n",
    "# Add the counts together\n",
    "total_count = count_tup1 + count_tup2\n",
    "\n",
    "# Check if the total count is the same as the number of elements in tup3\n",
    "is_equal = total_count == len(tup3)\n",
    "\n",
    "# Print the results\n",
    "print(\"Number of elements in tup1:\", count_tup1)\n",
    "print(\"Number of elements in tup2:\", count_tup2)\n",
    "print(\"Total count of elements:\", total_count)\n",
    "print(\"Is the total count equal to the number of elements in tup3?\", is_equal)"
   ]
  },
  {
   "cell_type": "markdown",
   "metadata": {},
   "source": [
    "#### What is the index number of `\"h\"` in `tup3`?"
   ]
  },
  {
   "cell_type": "code",
   "execution_count": 8,
   "metadata": {},
   "outputs": [
    {
     "name": "stdout",
     "output_type": "stream",
     "text": [
      "Index of 'h' in tup3: 4\n"
     ]
    }
   ],
   "source": [
    "tup3 = ('I', 'r', 'o', 'n', 'h', 'a', 'c', 'k')\n",
    "index_h = tup3.index('h')\n",
    "print(\"Index of 'h' in tup3:\", index_h)"
   ]
  },
  {
   "cell_type": "markdown",
   "metadata": {},
   "source": [
    "#### Now, use a FOR loop to check whether each letter in the following list is present in `tup3`:\n",
    "\n",
    "```\n",
    "letters = [\"a\", \"b\", \"c\", \"d\", \"e\"]\n",
    "```\n",
    "\n",
    "For each letter you check, print `True` if it is present in `tup3` otherwise print `False`.\n",
    "\n",
    "*Hint: you only need to loop `letters`. You don't need to loop `tup3` because there is a Python operator `in` you can use. See [reference](https://stackoverflow.com/questions/17920147/how-to-check-if-a-tuple-contains-an-element-in-python).*"
   ]
  },
  {
   "cell_type": "code",
   "execution_count": 9,
   "metadata": {},
   "outputs": [
    {
     "name": "stdout",
     "output_type": "stream",
     "text": [
      "True\n",
      "False\n",
      "True\n",
      "False\n",
      "False\n"
     ]
    }
   ],
   "source": [
    "tup3 = ('I', 'r', 'o', 'n', 'h', 'a', 'c', 'k')\n",
    "letters = [\"a\", \"b\", \"c\", \"d\", \"e\"]\n",
    "\n",
    "for letter in letters:\n",
    "    is_present = letter in tup3\n",
    "    print(is_present)"
   ]
  },
  {
   "cell_type": "markdown",
   "metadata": {},
   "source": [
    "#### How many times does each letter in `letters` appear in `tup3`?\n",
    "\n",
    "Print out the number of occurrence of each letter."
   ]
  },
  {
   "cell_type": "code",
   "execution_count": 10,
   "metadata": {},
   "outputs": [
    {
     "name": "stdout",
     "output_type": "stream",
     "text": [
      "The letter 'a' appears 1 times in tup3.\n",
      "The letter 'b' appears 0 times in tup3.\n",
      "The letter 'c' appears 1 times in tup3.\n",
      "The letter 'd' appears 0 times in tup3.\n",
      "The letter 'e' appears 0 times in tup3.\n"
     ]
    }
   ],
   "source": [
    "tup3 = ('I', 'r', 'o', 'n', 'h', 'a', 'c', 'k')\n",
    "letters = [\"a\", \"b\", \"c\", \"d\", \"e\"]\n",
    "\n",
    "for letter in letters:\n",
    "    count = tup3.count(letter)\n",
    "    print(f\"The letter '{letter}' appears {count} times in tup3.\")"
   ]
  },
  {
   "cell_type": "code",
   "execution_count": 12,
   "metadata": {},
   "outputs": [],
   "source": []
  },
  {
   "cell_type": "code",
   "execution_count": null,
   "metadata": {},
   "outputs": [],
   "source": []
  }
 ],
 "metadata": {
  "kernelspec": {
   "display_name": "Python [conda env:m1_env]",
   "language": "python",
   "name": "conda-env-m1_env-py"
  },
  "language_info": {
   "codemirror_mode": {
    "name": "ipython",
    "version": 3
   },
   "file_extension": ".py",
   "mimetype": "text/x-python",
   "name": "python",
   "nbconvert_exporter": "python",
   "pygments_lexer": "ipython3",
   "version": "3.9.16"
  }
 },
 "nbformat": 4,
 "nbformat_minor": 2
}
