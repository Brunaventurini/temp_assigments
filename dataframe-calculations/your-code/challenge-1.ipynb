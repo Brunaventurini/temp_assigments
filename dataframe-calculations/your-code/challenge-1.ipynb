{
 "cells": [
  {
   "cell_type": "markdown",
   "metadata": {},
   "source": [
    "# Challenge 1\n",
    "\n",
    "In this challenge you will be working on **Pokemon**. You will answer a series of questions in order to practice dataframe calculation, aggregation, and transformation.\n",
    "\n",
    "![Pokemon](../images/pokemon.jpg)\n",
    "\n",
    "Follow the instructions below and enter your code.\n",
    "\n",
    "#### Import all required libraries."
   ]
  },
  {
   "cell_type": "code",
   "execution_count": 5,
   "metadata": {},
   "outputs": [],
   "source": [
    "import pandas as pd"
   ]
  },
  {
   "cell_type": "markdown",
   "metadata": {},
   "source": [
    "#### Import data set.\n",
    "\n",
    "Import data set `Pokemon` from Ironhack's database. Read the data into a dataframe called `pokemon`.\n",
    "\n",
    "*Data set attributed to [Alberto Barradas](https://www.kaggle.com/abcsds/pokemon/)*"
   ]
  },
  {
   "cell_type": "code",
   "execution_count": 10,
   "metadata": {},
   "outputs": [],
   "source": [
    "pokemon_data = pd.read_csv('Pokemon.csv')"
   ]
  },
  {
   "cell_type": "markdown",
   "metadata": {},
   "source": [
    "#### Print first 10 rows of `pokemon`."
   ]
  },
  {
   "cell_type": "code",
   "execution_count": 11,
   "metadata": {},
   "outputs": [
    {
     "name": "stdout",
     "output_type": "stream",
     "text": [
      "   #                       Name Type 1  Type 2  Total  HP  Attack  Defense  \\\n",
      "0  1                  Bulbasaur  Grass  Poison    318  45      49       49   \n",
      "1  2                    Ivysaur  Grass  Poison    405  60      62       63   \n",
      "2  3                   Venusaur  Grass  Poison    525  80      82       83   \n",
      "3  3      VenusaurMega Venusaur  Grass  Poison    625  80     100      123   \n",
      "4  4                 Charmander   Fire     NaN    309  39      52       43   \n",
      "5  5                 Charmeleon   Fire     NaN    405  58      64       58   \n",
      "6  6                  Charizard   Fire  Flying    534  78      84       78   \n",
      "7  6  CharizardMega Charizard X   Fire  Dragon    634  78     130      111   \n",
      "8  6  CharizardMega Charizard Y   Fire  Flying    634  78     104       78   \n",
      "9  7                   Squirtle  Water     NaN    314  44      48       65   \n",
      "\n",
      "   Sp. Atk  Sp. Def  Speed  Generation  Legendary  \n",
      "0       65       65     45           1      False  \n",
      "1       80       80     60           1      False  \n",
      "2      100      100     80           1      False  \n",
      "3      122      120     80           1      False  \n",
      "4       60       50     65           1      False  \n",
      "5       80       65     80           1      False  \n",
      "6      109       85    100           1      False  \n",
      "7      130       85    100           1      False  \n",
      "8      159      115    100           1      False  \n",
      "9       50       64     43           1      False  \n"
     ]
    }
   ],
   "source": [
    "print(pokemon_data.head(10))"
   ]
  },
  {
   "cell_type": "markdown",
   "metadata": {},
   "source": [
    "When you look at a data set, you often wonder what each column means. Some open-source data sets provide descriptions of the data set. In many cases, data descriptions are extremely useful for data analysts to perform work efficiently and successfully.\n",
    "\n",
    "For the `Pokemon.csv` data set, fortunately, the owner provided descriptions which you can see [here](https://www.kaggle.com/abcsds/pokemon/home). For your convenience, we are including the descriptions below. Read the descriptions and understand what each column means. This knowledge is helpful in your work with the data.\n",
    "\n",
    "| Column | Description |\n",
    "| --- | --- |\n",
    "| # | ID for each pokemon |\n",
    "| Name | Name of each pokemon |\n",
    "| Type 1 | Each pokemon has a type, this determines weakness/resistance to attacks |\n",
    "| Type 2 | Some pokemon are dual type and have 2 |\n",
    "| Total | A general guide to how strong a pokemon is |\n",
    "| HP | Hit points, or health, defines how much damage a pokemon can withstand before fainting |\n",
    "| Attack | The base modifier for normal attacks (eg. Scratch, Punch) |\n",
    "| Defense | The base damage resistance against normal attacks |\n",
    "| SP Atk | Special attack, the base modifier for special attacks (e.g. fire blast, bubble beam) |\n",
    "| SP Def | The base damage resistance against special attacks |\n",
    "| Speed | Determines which pokemon attacks first each round |\n",
    "| Generation | Number of generation |\n",
    "| Legendary | True if Legendary Pokemon False if not |"
   ]
  },
  {
   "cell_type": "markdown",
   "metadata": {},
   "source": [
    "#### Obtain the distinct values across `Type 1` and `Type 2`.\n",
    "\n",
    "Exctract all the values in `Type 1` and `Type 2`. Then create an array containing the distinct values across both fields."
   ]
  },
  {
   "cell_type": "code",
   "execution_count": 14,
   "metadata": {},
   "outputs": [
    {
     "name": "stdout",
     "output_type": "stream",
     "text": [
      "['Bug' 'Dark' 'Dragon' 'Electric' 'Fairy' 'Fighting' 'Fire' 'Flying'\n",
      " 'Ghost' 'Grass' 'Ground' 'Ice' 'Normal' 'Poison' 'Psychic' 'Rock' 'Steel'\n",
      " 'Water' 'nan']\n"
     ]
    }
   ],
   "source": [
    "import pandas as pd\n",
    "import numpy as np\n",
    "\n",
    "# Import the dataset\n",
    "pokemon_data = pd.read_csv('Pokemon.csv')\n",
    "\n",
    "# Convert \"Type 1\" and \"Type 2\" columns to strings\n",
    "pokemon_data['Type 1'] = pokemon_data['Type 1'].astype(str)\n",
    "pokemon_data['Type 2'] = pokemon_data['Type 2'].astype(str)\n",
    "\n",
    "# Extract distinct values from Type 1 and Type 2\n",
    "type1_values = pokemon_data['Type 1'].unique()\n",
    "type2_values = pokemon_data['Type 2'].unique()\n",
    "\n",
    "# Combine the arrays and get distinct values\n",
    "distinct_types = np.union1d(type1_values, type2_values)\n",
    "\n",
    "# Print the array of distinct values\n",
    "print(distinct_types)\n"
   ]
  },
  {
   "cell_type": "markdown",
   "metadata": {},
   "source": [
    "#### Cleanup `Name` that contain \"Mega\".\n",
    "\n",
    "If you have checked out the pokemon names carefully enough, you should have found there are junk texts in the pokemon names which contain \"Mega\". We want to clean up the pokemon names. For instance, \"VenusaurMega Venusaur\" should be \"Mega Venusaur\", and \"CharizardMega Charizard X\" should be \"Mega Charizard X\"."
   ]
  },
  {
   "cell_type": "code",
   "execution_count": 15,
   "metadata": {},
   "outputs": [
    {
     "name": "stdout",
     "output_type": "stream",
     "text": [
      "   #              Name Type 1  Type 2  Total  HP  Attack  Defense  Sp. Atk  \\\n",
      "0  1         Bulbasaur  Grass  Poison    318  45      49       49       65   \n",
      "1  2           Ivysaur  Grass  Poison    405  60      62       63       80   \n",
      "2  3          Venusaur  Grass  Poison    525  80      82       83      100   \n",
      "3  3     Mega Venusaur  Grass  Poison    625  80     100      123      122   \n",
      "4  4        Charmander   Fire     NaN    309  39      52       43       60   \n",
      "5  5        Charmeleon   Fire     NaN    405  58      64       58       80   \n",
      "6  6         Charizard   Fire  Flying    534  78      84       78      109   \n",
      "7  6  Mega Charizard X   Fire  Dragon    634  78     130      111      130   \n",
      "8  6  Mega Charizard Y   Fire  Flying    634  78     104       78      159   \n",
      "9  7          Squirtle  Water     NaN    314  44      48       65       50   \n",
      "\n",
      "   Sp. Def  Speed  Generation  Legendary  \n",
      "0       65     45           1      False  \n",
      "1       80     60           1      False  \n",
      "2      100     80           1      False  \n",
      "3      120     80           1      False  \n",
      "4       50     65           1      False  \n",
      "5       65     80           1      False  \n",
      "6       85    100           1      False  \n",
      "7       85    100           1      False  \n",
      "8      115    100           1      False  \n",
      "9       64     43           1      False  \n"
     ]
    }
   ],
   "source": [
    "import pandas as pd\n",
    "\n",
    "# Import the dataset\n",
    "pokemon_data = pd.read_csv('Pokemon.csv')\n",
    "\n",
    "# Clean up names containing \"Mega\"\n",
    "pokemon_data['Name'] = pokemon_data['Name'].str.replace('.*Mega', 'Mega', regex=True)\n",
    "\n",
    "# Print the first 10 rows to verify the changes\n",
    "print(pokemon_data.head(10))"
   ]
  },
  {
   "cell_type": "markdown",
   "metadata": {},
   "source": [
    "#### Create a new column called `A/D Ratio` whose value equals to `Attack` devided by `Defense`.\n",
    "\n",
    "For instance, if a pokemon has the Attack score 49 and Defense score 49, the corresponding `A/D Ratio` is 49/49=1."
   ]
  },
  {
   "cell_type": "code",
   "execution_count": 17,
   "metadata": {},
   "outputs": [
    {
     "name": "stdout",
     "output_type": "stream",
     "text": [
      "   #              Name Type 1  Type 2  Total  HP  Attack  Defense  Sp. Atk  \\\n",
      "0  1         Bulbasaur  Grass  Poison    318  45      49       49       65   \n",
      "1  2           Ivysaur  Grass  Poison    405  60      62       63       80   \n",
      "2  3          Venusaur  Grass  Poison    525  80      82       83      100   \n",
      "3  3     Mega Venusaur  Grass  Poison    625  80     100      123      122   \n",
      "4  4        Charmander   Fire     NaN    309  39      52       43       60   \n",
      "5  5        Charmeleon   Fire     NaN    405  58      64       58       80   \n",
      "6  6         Charizard   Fire  Flying    534  78      84       78      109   \n",
      "7  6  Mega Charizard X   Fire  Dragon    634  78     130      111      130   \n",
      "8  6  Mega Charizard Y   Fire  Flying    634  78     104       78      159   \n",
      "9  7          Squirtle  Water     NaN    314  44      48       65       50   \n",
      "\n",
      "   Sp. Def  Speed  Generation  Legendary  \n",
      "0       65     45           1      False  \n",
      "1       80     60           1      False  \n",
      "2      100     80           1      False  \n",
      "3      120     80           1      False  \n",
      "4       50     65           1      False  \n",
      "5       65     80           1      False  \n",
      "6       85    100           1      False  \n",
      "7       85    100           1      False  \n",
      "8      115    100           1      False  \n",
      "9       64     43           1      False  \n",
      "   #              Name Type 1  Type 2  Total  HP  Attack  Defense  Sp. Atk  \\\n",
      "0  1         Bulbasaur  Grass  Poison    318  45      49       49       65   \n",
      "1  2           Ivysaur  Grass  Poison    405  60      62       63       80   \n",
      "2  3          Venusaur  Grass  Poison    525  80      82       83      100   \n",
      "3  3     Mega Venusaur  Grass  Poison    625  80     100      123      122   \n",
      "4  4        Charmander   Fire     NaN    309  39      52       43       60   \n",
      "5  5        Charmeleon   Fire     NaN    405  58      64       58       80   \n",
      "6  6         Charizard   Fire  Flying    534  78      84       78      109   \n",
      "7  6  Mega Charizard X   Fire  Dragon    634  78     130      111      130   \n",
      "8  6  Mega Charizard Y   Fire  Flying    634  78     104       78      159   \n",
      "9  7          Squirtle  Water     NaN    314  44      48       65       50   \n",
      "\n",
      "   Sp. Def  Speed  Generation  Legendary  A/D Ratio  \n",
      "0       65     45           1      False   1.000000  \n",
      "1       80     60           1      False   0.984127  \n",
      "2      100     80           1      False   0.987952  \n",
      "3      120     80           1      False   0.813008  \n",
      "4       50     65           1      False   1.209302  \n",
      "5       65     80           1      False   1.103448  \n",
      "6       85    100           1      False   1.076923  \n",
      "7       85    100           1      False   1.171171  \n",
      "8      115    100           1      False   1.333333  \n",
      "9       64     43           1      False   0.738462  \n"
     ]
    }
   ],
   "source": [
    "import pandas as pd\n",
    "\n",
    "# Import the dataset\n",
    "pokemon_data = pd.read_csv('Pokemon.csv')\n",
    "\n",
    "# Clean up names containing \"Mega\"\n",
    "pokemon_data['Name'] = pokemon_data['Name'].str.replace('.*Mega', 'Mega', regex=True)\n",
    "\n",
    "# Print the first 10 rows to verify the changes\n",
    "print(pokemon_data.head(10))\n",
    "\n",
    "# Create a new column A/D Ratio\n",
    "pokemon_data['A/D Ratio'] = pokemon_data['Attack'] / pokemon_data['Defense']\n",
    "\n",
    "# Print the first 10 rows to verify the changes\n",
    "print(pokemon_data.head(10))"
   ]
  },
  {
   "cell_type": "markdown",
   "metadata": {},
   "source": [
    "#### Identify the pokemon with the highest `A/D Ratio`."
   ]
  },
  {
   "cell_type": "code",
   "execution_count": 18,
   "metadata": {},
   "outputs": [
    {
     "name": "stdout",
     "output_type": "stream",
     "text": [
      "Pokemon with the highest A/D Ratio:\n",
      "Name         DeoxysAttack Forme\n",
      "A/D Ratio                   9.0\n",
      "Name: 429, dtype: object\n"
     ]
    }
   ],
   "source": [
    "import pandas as pd\n",
    "\n",
    "# Import the dataset\n",
    "pokemon_data = pd.read_csv('Pokemon.csv')\n",
    "\n",
    "# Create a new column A/D Ratio\n",
    "pokemon_data['A/D Ratio'] = pokemon_data['Attack'] / pokemon_data['Defense']\n",
    "\n",
    "# Find the index of the Pokemon with the highest A/D Ratio\n",
    "highest_ad_ratio_index = pokemon_data['A/D Ratio'].idxmax()\n",
    "\n",
    "# Get the Pokemon with the highest A/D Ratio\n",
    "pokemon_highest_ad_ratio = pokemon_data.loc[highest_ad_ratio_index]\n",
    "\n",
    "# Print the Pokemon with the highest A/D Ratio\n",
    "print(\"Pokemon with the highest A/D Ratio:\")\n",
    "print(pokemon_highest_ad_ratio[['Name', 'A/D Ratio']])"
   ]
  },
  {
   "cell_type": "markdown",
   "metadata": {},
   "source": [
    "#### Identify the pokemon with the lowest A/D Ratio."
   ]
  },
  {
   "cell_type": "code",
   "execution_count": 19,
   "metadata": {},
   "outputs": [
    {
     "name": "stdout",
     "output_type": "stream",
     "text": [
      "Pokemon with the lowest A/D Ratio:\n",
      "Name          Shuckle\n",
      "A/D Ratio    0.043478\n",
      "Name: 230, dtype: object\n"
     ]
    }
   ],
   "source": [
    "import pandas as pd\n",
    "\n",
    "# Import the dataset\n",
    "pokemon_data = pd.read_csv('Pokemon.csv')\n",
    "\n",
    "# Create a new column A/D Ratio\n",
    "pokemon_data['A/D Ratio'] = pokemon_data['Attack'] / pokemon_data['Defense']\n",
    "\n",
    "# Find the index of the Pokemon with the lowest A/D Ratio\n",
    "lowest_ad_ratio_index = pokemon_data['A/D Ratio'].idxmin()\n",
    "\n",
    "# Get the Pokemon with the lowest A/D Ratio\n",
    "pokemon_lowest_ad_ratio = pokemon_data.loc[lowest_ad_ratio_index]\n",
    "\n",
    "# Print the Pokemon with the lowest A/D Ratio\n",
    "print(\"Pokemon with the lowest A/D Ratio:\")\n",
    "print(pokemon_lowest_ad_ratio[['Name', 'A/D Ratio']])"
   ]
  },
  {
   "cell_type": "markdown",
   "metadata": {},
   "source": [
    "#### Create a new column called `Combo Type` whose value combines `Type 1` and `Type 2`.\n",
    "\n",
    "Rules:\n",
    "\n",
    "* If both `Type 1` and `Type 2` have valid values, the `Combo Type` value should contain both values in the form of `<Type 1> <Type 2>`. For example, if `Type 1` value is `Grass` and `Type 2` value is `Poison`, `Combo Type` will be `Grass-Poison`.\n",
    "\n",
    "* If `Type 1` has valid value but `Type 2` is not, `Combo Type` will be the same as `Type 1`. For example, if `Type 1` is `Fire` whereas `Type 2` is `NaN`, `Combo Type` will be `Fire`."
   ]
  },
  {
   "cell_type": "code",
   "execution_count": 20,
   "metadata": {},
   "outputs": [
    {
     "name": "stdout",
     "output_type": "stream",
     "text": [
      "   #                       Name Type 1  Type 2  Total  HP  Attack  Defense  \\\n",
      "0  1                  Bulbasaur  Grass  Poison    318  45      49       49   \n",
      "1  2                    Ivysaur  Grass  Poison    405  60      62       63   \n",
      "2  3                   Venusaur  Grass  Poison    525  80      82       83   \n",
      "3  3      VenusaurMega Venusaur  Grass  Poison    625  80     100      123   \n",
      "4  4                 Charmander   Fire            309  39      52       43   \n",
      "5  5                 Charmeleon   Fire            405  58      64       58   \n",
      "6  6                  Charizard   Fire  Flying    534  78      84       78   \n",
      "7  6  CharizardMega Charizard X   Fire  Dragon    634  78     130      111   \n",
      "8  6  CharizardMega Charizard Y   Fire  Flying    634  78     104       78   \n",
      "9  7                   Squirtle  Water            314  44      48       65   \n",
      "\n",
      "   Sp. Atk  Sp. Def  Speed  Generation  Legendary    Combo Type  \n",
      "0       65       65     45           1      False  Grass-Poison  \n",
      "1       80       80     60           1      False  Grass-Poison  \n",
      "2      100      100     80           1      False  Grass-Poison  \n",
      "3      122      120     80           1      False  Grass-Poison  \n",
      "4       60       50     65           1      False          Fire  \n",
      "5       80       65     80           1      False          Fire  \n",
      "6      109       85    100           1      False   Fire-Flying  \n",
      "7      130       85    100           1      False   Fire-Dragon  \n",
      "8      159      115    100           1      False   Fire-Flying  \n",
      "9       50       64     43           1      False         Water  \n"
     ]
    }
   ],
   "source": [
    "import pandas as pd\n",
    "\n",
    "# Import the dataset\n",
    "pokemon_data = pd.read_csv('Pokemon.csv')\n",
    "\n",
    "# Fill NaN values in Type 2 with an empty string\n",
    "pokemon_data['Type 2'].fillna('', inplace=True)\n",
    "\n",
    "# Create a new column Combo Type\n",
    "pokemon_data['Combo Type'] = pokemon_data['Type 1'] + '-' + pokemon_data['Type 2']\n",
    "\n",
    "# Replace the '-' with an empty string if Type 2 is empty\n",
    "pokemon_data['Combo Type'] = pokemon_data['Combo Type'].str.replace('-$', '', regex=True)\n",
    "\n",
    "# Print the first 10 rows to verify the changes\n",
    "print(pokemon_data.head(10))"
   ]
  },
  {
   "cell_type": "markdown",
   "metadata": {},
   "source": [
    "#### Identify the pokemon whose `A/D Ratio` are among the top 5."
   ]
  },
  {
   "cell_type": "code",
   "execution_count": 21,
   "metadata": {},
   "outputs": [
    {
     "name": "stdout",
     "output_type": "stream",
     "text": [
      "Top 5 Pokémon with the highest A/D Ratio:\n",
      "                      Name  A/D Ratio\n",
      "429     DeoxysAttack Forme      9.000\n",
      "347               Carvanha      4.500\n",
      "19   BeedrillMega Beedrill      3.750\n",
      "453               Cranidos      3.125\n",
      "348               Sharpedo      3.000\n"
     ]
    }
   ],
   "source": [
    "import pandas as pd\n",
    "\n",
    "# Import the dataset\n",
    "pokemon_data = pd.read_csv('Pokemon.csv')\n",
    "\n",
    "# Create a new column A/D Ratio\n",
    "pokemon_data['A/D Ratio'] = pokemon_data['Attack'] / pokemon_data['Defense']\n",
    "\n",
    "# Find the top 5 Pokémon based on A/D Ratio\n",
    "top5_pokemon = pokemon_data.nlargest(5, 'A/D Ratio')\n",
    "\n",
    "# Print the top 5 Pokémon\n",
    "print(\"Top 5 Pokémon with the highest A/D Ratio:\")\n",
    "print(top5_pokemon[['Name', 'A/D Ratio']])"
   ]
  },
  {
   "cell_type": "markdown",
   "metadata": {},
   "source": [
    "#### For the 5 pokemon printed above, aggregate `Combo Type` and use a list to store the unique values.\n",
    "\n",
    "Your end product is a list containing the distinct `Combo Type` values of the 5 pokemon with the highest `A/D Ra\n",
    "tio`."
   ]
  },
  {
   "cell_type": "code",
   "execution_count": 24,
   "metadata": {},
   "outputs": [
    {
     "name": "stdout",
     "output_type": "stream",
     "text": [
      "Index(['#', 'Name', 'Type 1', 'Type 2', 'Total', 'HP', 'Attack', 'Defense',\n",
      "       'Sp. Atk', 'Sp. Def', 'Speed', 'Generation', 'Legendary', 'A/D Ratio'],\n",
      "      dtype='object')\n"
     ]
    }
   ],
   "source": [
    "import pandas as pd\n",
    "\n",
    "# Import the dataset\n",
    "pokemon_data = pd.read_csv('Pokemon.csv')\n",
    "\n",
    "# Create a new column A/D Ratio\n",
    "pokemon_data['A/D Ratio'] = pokemon_data['Attack'] / pokemon_data['Defense']\n",
    "\n",
    "# Find the top 5 Pokémon based on A/D Ratio\n",
    "top5_pokemon = pokemon_data.nlargest(5, 'A/D Ratio')\n",
    "\n",
    "# Check the exact column names\n",
    "print(top5_pokemon.columns)"
   ]
  },
  {
   "cell_type": "markdown",
   "metadata": {},
   "source": [
    "#### For each of the `Combo Type` values obtained from the previous question, calculate the mean scores of all numeric fields across all pokemon.\n",
    "\n",
    "Your output should look like below:\n",
    "\n",
    "![Aggregate](../images/aggregated-mean.png)"
   ]
  },
  {
   "cell_type": "code",
   "execution_count": 25,
   "metadata": {},
   "outputs": [
    {
     "ename": "KeyError",
     "evalue": "'Combo Type'",
     "output_type": "error",
     "traceback": [
      "\u001b[1;31m---------------------------------------------------------------------------\u001b[0m",
      "\u001b[1;31mKeyError\u001b[0m                                  Traceback (most recent call last)",
      "File \u001b[1;32m~\\miniconda3\\envs\\m1_env\\lib\\site-packages\\pandas\\core\\indexes\\base.py:3802\u001b[0m, in \u001b[0;36mIndex.get_loc\u001b[1;34m(self, key, method, tolerance)\u001b[0m\n\u001b[0;32m   3801\u001b[0m \u001b[38;5;28;01mtry\u001b[39;00m:\n\u001b[1;32m-> 3802\u001b[0m     \u001b[38;5;28;01mreturn\u001b[39;00m \u001b[38;5;28;43mself\u001b[39;49m\u001b[38;5;241;43m.\u001b[39;49m\u001b[43m_engine\u001b[49m\u001b[38;5;241;43m.\u001b[39;49m\u001b[43mget_loc\u001b[49m\u001b[43m(\u001b[49m\u001b[43mcasted_key\u001b[49m\u001b[43m)\u001b[49m\n\u001b[0;32m   3803\u001b[0m \u001b[38;5;28;01mexcept\u001b[39;00m \u001b[38;5;167;01mKeyError\u001b[39;00m \u001b[38;5;28;01mas\u001b[39;00m err:\n",
      "File \u001b[1;32m~\\miniconda3\\envs\\m1_env\\lib\\site-packages\\pandas\\_libs\\index.pyx:138\u001b[0m, in \u001b[0;36mpandas._libs.index.IndexEngine.get_loc\u001b[1;34m()\u001b[0m\n",
      "File \u001b[1;32m~\\miniconda3\\envs\\m1_env\\lib\\site-packages\\pandas\\_libs\\index.pyx:165\u001b[0m, in \u001b[0;36mpandas._libs.index.IndexEngine.get_loc\u001b[1;34m()\u001b[0m\n",
      "File \u001b[1;32mpandas\\_libs\\hashtable_class_helper.pxi:5745\u001b[0m, in \u001b[0;36mpandas._libs.hashtable.PyObjectHashTable.get_item\u001b[1;34m()\u001b[0m\n",
      "File \u001b[1;32mpandas\\_libs\\hashtable_class_helper.pxi:5753\u001b[0m, in \u001b[0;36mpandas._libs.hashtable.PyObjectHashTable.get_item\u001b[1;34m()\u001b[0m\n",
      "\u001b[1;31mKeyError\u001b[0m: 'Combo Type'",
      "\nThe above exception was the direct cause of the following exception:\n",
      "\u001b[1;31mKeyError\u001b[0m                                  Traceback (most recent call last)",
      "Cell \u001b[1;32mIn[25], line 13\u001b[0m\n\u001b[0;32m     10\u001b[0m top5_pokemon \u001b[38;5;241m=\u001b[39m pokemon_data\u001b[38;5;241m.\u001b[39mnlargest(\u001b[38;5;241m5\u001b[39m, \u001b[38;5;124m'\u001b[39m\u001b[38;5;124mA/D Ratio\u001b[39m\u001b[38;5;124m'\u001b[39m)\n\u001b[0;32m     12\u001b[0m \u001b[38;5;66;03m# Get the unique Combo Type values\u001b[39;00m\n\u001b[1;32m---> 13\u001b[0m unique_combo_types \u001b[38;5;241m=\u001b[39m \u001b[43mtop5_pokemon\u001b[49m\u001b[43m[\u001b[49m\u001b[38;5;124;43m'\u001b[39;49m\u001b[38;5;124;43mCombo Type\u001b[39;49m\u001b[38;5;124;43m'\u001b[39;49m\u001b[43m]\u001b[49m\u001b[38;5;241m.\u001b[39munique()\n\u001b[0;32m     15\u001b[0m \u001b[38;5;66;03m# Create an empty DataFrame to store the aggregated results\u001b[39;00m\n\u001b[0;32m     16\u001b[0m aggregate_results \u001b[38;5;241m=\u001b[39m pd\u001b[38;5;241m.\u001b[39mDataFrame(columns\u001b[38;5;241m=\u001b[39m[\u001b[38;5;124m'\u001b[39m\u001b[38;5;124mCombo Type\u001b[39m\u001b[38;5;124m'\u001b[39m, \u001b[38;5;124m'\u001b[39m\u001b[38;5;124mMean HP\u001b[39m\u001b[38;5;124m'\u001b[39m, \u001b[38;5;124m'\u001b[39m\u001b[38;5;124mMean Attack\u001b[39m\u001b[38;5;124m'\u001b[39m, \u001b[38;5;124m'\u001b[39m\u001b[38;5;124mMean Defense\u001b[39m\u001b[38;5;124m'\u001b[39m, \u001b[38;5;124m'\u001b[39m\u001b[38;5;124mMean Sp. Atk\u001b[39m\u001b[38;5;124m'\u001b[39m, \u001b[38;5;124m'\u001b[39m\u001b[38;5;124mMean Sp. Def\u001b[39m\u001b[38;5;124m'\u001b[39m, \u001b[38;5;124m'\u001b[39m\u001b[38;5;124mMean Speed\u001b[39m\u001b[38;5;124m'\u001b[39m, \u001b[38;5;124m'\u001b[39m\u001b[38;5;124mMean Generation\u001b[39m\u001b[38;5;124m'\u001b[39m, \u001b[38;5;124m'\u001b[39m\u001b[38;5;124mMean Legendary\u001b[39m\u001b[38;5;124m'\u001b[39m])\n",
      "File \u001b[1;32m~\\miniconda3\\envs\\m1_env\\lib\\site-packages\\pandas\\core\\frame.py:3807\u001b[0m, in \u001b[0;36mDataFrame.__getitem__\u001b[1;34m(self, key)\u001b[0m\n\u001b[0;32m   3805\u001b[0m \u001b[38;5;28;01mif\u001b[39;00m \u001b[38;5;28mself\u001b[39m\u001b[38;5;241m.\u001b[39mcolumns\u001b[38;5;241m.\u001b[39mnlevels \u001b[38;5;241m>\u001b[39m \u001b[38;5;241m1\u001b[39m:\n\u001b[0;32m   3806\u001b[0m     \u001b[38;5;28;01mreturn\u001b[39;00m \u001b[38;5;28mself\u001b[39m\u001b[38;5;241m.\u001b[39m_getitem_multilevel(key)\n\u001b[1;32m-> 3807\u001b[0m indexer \u001b[38;5;241m=\u001b[39m \u001b[38;5;28;43mself\u001b[39;49m\u001b[38;5;241;43m.\u001b[39;49m\u001b[43mcolumns\u001b[49m\u001b[38;5;241;43m.\u001b[39;49m\u001b[43mget_loc\u001b[49m\u001b[43m(\u001b[49m\u001b[43mkey\u001b[49m\u001b[43m)\u001b[49m\n\u001b[0;32m   3808\u001b[0m \u001b[38;5;28;01mif\u001b[39;00m is_integer(indexer):\n\u001b[0;32m   3809\u001b[0m     indexer \u001b[38;5;241m=\u001b[39m [indexer]\n",
      "File \u001b[1;32m~\\miniconda3\\envs\\m1_env\\lib\\site-packages\\pandas\\core\\indexes\\base.py:3804\u001b[0m, in \u001b[0;36mIndex.get_loc\u001b[1;34m(self, key, method, tolerance)\u001b[0m\n\u001b[0;32m   3802\u001b[0m     \u001b[38;5;28;01mreturn\u001b[39;00m \u001b[38;5;28mself\u001b[39m\u001b[38;5;241m.\u001b[39m_engine\u001b[38;5;241m.\u001b[39mget_loc(casted_key)\n\u001b[0;32m   3803\u001b[0m \u001b[38;5;28;01mexcept\u001b[39;00m \u001b[38;5;167;01mKeyError\u001b[39;00m \u001b[38;5;28;01mas\u001b[39;00m err:\n\u001b[1;32m-> 3804\u001b[0m     \u001b[38;5;28;01mraise\u001b[39;00m \u001b[38;5;167;01mKeyError\u001b[39;00m(key) \u001b[38;5;28;01mfrom\u001b[39;00m \u001b[38;5;21;01merr\u001b[39;00m\n\u001b[0;32m   3805\u001b[0m \u001b[38;5;28;01mexcept\u001b[39;00m \u001b[38;5;167;01mTypeError\u001b[39;00m:\n\u001b[0;32m   3806\u001b[0m     \u001b[38;5;66;03m# If we have a listlike key, _check_indexing_error will raise\u001b[39;00m\n\u001b[0;32m   3807\u001b[0m     \u001b[38;5;66;03m#  InvalidIndexError. Otherwise we fall through and re-raise\u001b[39;00m\n\u001b[0;32m   3808\u001b[0m     \u001b[38;5;66;03m#  the TypeError.\u001b[39;00m\n\u001b[0;32m   3809\u001b[0m     \u001b[38;5;28mself\u001b[39m\u001b[38;5;241m.\u001b[39m_check_indexing_error(key)\n",
      "\u001b[1;31mKeyError\u001b[0m: 'Combo Type'"
     ]
    }
   ],
   "source": [
    "import pandas as pd\n",
    "\n",
    "# Import the dataset\n",
    "pokemon_data = pd.read_csv('Pokemon.csv')\n",
    "\n",
    "# Create a new column A/D Ratio\n",
    "pokemon_data['A/D Ratio'] = pokemon_data['Attack'] / pokemon_data['Defense']\n",
    "\n",
    "# Find the top 5 Pokémon based on A/D Ratio\n",
    "top5_pokemon = pokemon_data.nlargest(5, 'A/D Ratio')\n",
    "\n",
    "# Get the unique Combo Type values\n",
    "unique_combo_types = top5_pokemon['Combo Type'].unique()\n",
    "\n",
    "# Create an empty DataFrame to store the aggregated results\n",
    "aggregate_results = pd.DataFrame(columns=['Combo Type', 'Mean HP', 'Mean Attack', 'Mean Defense', 'Mean Sp. Atk', 'Mean Sp. Def', 'Mean Speed', 'Mean Generation', 'Mean Legendary'])\n",
    "\n",
    "# Calculate mean scores for each Combo Type\n",
    "for combo_type in unique_combo_types:\n",
    "    # Filter the dataset for each Combo Type\n",
    "    combo_type_data = pokemon_data[pokemon_data['Combo Type'] == combo_type]\n",
    "    \n",
    "    # Calculate mean scores for numeric fields\n",
    "    mean_scores = combo_type_data.mean(numeric_only=True)\n",
    "    \n",
    "    # Add Combo Type to the results\n",
    "    mean_scores['Combo Type'] = combo_type\n",
    "    \n",
    "    # Append the results to the aggregate DataFrame\n",
    "    aggregate_results = aggregate_results.append(mean_scores, ignore_index=True)\n",
    "\n",
    "# Print the aggregated results\n",
    "print(\"Aggregate mean scores for each Combo Type:\")\n",
    "print(aggregate_results)"
   ]
  },
  {
   "cell_type": "code",
   "execution_count": null,
   "metadata": {},
   "outputs": [],
   "source": []
  }
 ],
 "metadata": {
  "kernelspec": {
   "display_name": "Python [conda env:m1_env]",
   "language": "python",
   "name": "conda-env-m1_env-py"
  },
  "language_info": {
   "codemirror_mode": {
    "name": "ipython",
    "version": 3
   },
   "file_extension": ".py",
   "mimetype": "text/x-python",
   "name": "python",
   "nbconvert_exporter": "python",
   "pygments_lexer": "ipython3",
   "version": "3.9.16"
  }
 },
 "nbformat": 4,
 "nbformat_minor": 2
}
