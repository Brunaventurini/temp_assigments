{
 "cells": [
  {
   "cell_type": "markdown",
   "metadata": {},
   "source": [
    "# Challenge 2\n",
    "\n",
    "In this challenge we will continue working with the `Pokemon` dataset. We will attempt solving a slightly more complex problem in which we will practice the iterative data analysis process you leaned in [this video](https://www.youtube.com/watch?v=xOomNicqbkk).\n",
    "\n",
    "The problem statement is as follows:\n",
    "\n",
    "**You are at a Pokemon black market planning to buy a Pokemon for battle. All Pokemon are sold at the same price and you can only afford to buy one. You cannot choose which specific Pokemon to buy. However, you can specify the type of the Pokemon - one type that exists in either `Type 1` or `Type 2`. Which type should you choose in order to maximize your chance of receiving a good Pokemon?**\n",
    "\n",
    "To remind you about the 3 steps of iterative data analysis, they are:\n",
    "\n",
    "1. Setting Expectations\n",
    "1. Collecting Information\n",
    "1. Reacting to Data / Revising Expectations\n",
    "\n",
    "Following the iterative process, we'll guide you in completing the challenge."
   ]
  },
  {
   "cell_type": "markdown",
   "metadata": {},
   "source": [
    "\n",
    "## Problem Solving Iteration 1\n",
    "\n",
    "In this iteration we'll analyze the problem and identify the breakthrough. The original question statement is kind of vague because we don't know what a *good pokemon* really means as represented in the data. We'll start by understanding the dataset and see if we can find some insights."
   ]
  },
  {
   "cell_type": "code",
   "execution_count": 4,
   "metadata": {},
   "outputs": [
    {
     "name": "stdout",
     "output_type": "stream",
     "text": [
      "   #                   Name Type 1  Type 2  Total  HP  Attack  Defense  \\\n",
      "0  1              Bulbasaur  Grass  Poison    318  45      49       49   \n",
      "1  2                Ivysaur  Grass  Poison    405  60      62       63   \n",
      "2  3               Venusaur  Grass  Poison    525  80      82       83   \n",
      "3  3  VenusaurMega Venusaur  Grass  Poison    625  80     100      123   \n",
      "4  4             Charmander   Fire     NaN    309  39      52       43   \n",
      "\n",
      "   Sp. Atk  Sp. Def  Speed  Generation  Legendary  \n",
      "0       65       65     45           1      False  \n",
      "1       80       80     60           1      False  \n",
      "2      100      100     80           1      False  \n",
      "3      122      120     80           1      False  \n",
      "4       60       50     65           1      False  \n"
     ]
    }
   ],
   "source": [
    "import pandas as pd\n",
    "\n",
    "# Assuming you have the dataset file, load it into a DataFrame\n",
    "pokemon_df = pd.read_csv(\"Pokemon.csv\")\n",
    "\n",
    "# Display the first few rows of the dataset\n",
    "print(pokemon_df.head())\n"
   ]
  },
  {
   "cell_type": "markdown",
   "metadata": {},
   "source": [
    "From the data it seems whether a pokemon is good depends on its abilities as represented in the fields of `HP`, `Attack`, `Defense`, `Sp. Atk`, `Sp. Def`, `Speed`, and `Total`. We are not sure about `Generation` and `Legendary` because they are not necessarily the decisive factors of the pokemon abilities.\n",
    "\n",
    "But `HP`, `Attack`, `Defense`, `Sp. Atk`, `Sp. Def`, `Speed`, and `Total` are a lot of fields! If we look at them all at once it's very complicated. This isn't Mission Impossible but it's ideal that we tackle this kind of problem after we learn Machine Learning (which you will do in Module 3). For now, is there a way to consolidate the fields we need to look into?\n",
    "\n",
    "Fortunately there seems to be a way. It appears the `Total` field is computed based on the other 6 fields. But we need to prove our theory. If we can approve there is a formula to compute `Total` based on the other 6 abilities, we only need to look into `Total`.\n",
    "\n",
    "We have the following expectation now:\n",
    "\n",
    "#### The `Total` field is computed based on `HP`, `Attack`, `Defense`, `Sp. Atk`, `Sp. Def`, and `Speed`.\n",
    "\n",
    "We need to collect the following information:\n",
    "\n",
    "* **What is the formula to compute `Total`?**\n",
    "* **Does the formula work for all pokemon?**\n",
    "\n",
    "In the cell below, make a hypothesis on how `Total` is computed and test your hypothesis."
   ]
  },
  {
   "cell_type": "code",
   "execution_count": 5,
   "metadata": {},
   "outputs": [
    {
     "name": "stdout",
     "output_type": "stream",
     "text": [
      "Empty DataFrame\n",
      "Columns: [Name, Total, Calculated_Total]\n",
      "Index: []\n"
     ]
    }
   ],
   "source": [
    "# Hypothesis: Total is the sum of HP, Attack, Defense, Sp. Atk, Sp. Def, and Speed\n",
    "pokemon_df['Calculated_Total'] = (\n",
    "    pokemon_df['HP'] +\n",
    "    pokemon_df['Attack'] +\n",
    "    pokemon_df['Defense'] +\n",
    "    pokemon_df['Sp. Atk'] +\n",
    "    pokemon_df['Sp. Def'] +\n",
    "    pokemon_df['Speed']\n",
    ")\n",
    "\n",
    "# Check if the hypothesis holds for all Pokemon\n",
    "is_equal = pokemon_df['Total'] == pokemon_df['Calculated_Total']\n",
    "\n",
    "# Display the first few rows where the hypothesis doesn't hold\n",
    "print(pokemon_df[~is_equal][['Name', 'Total', 'Calculated_Total']])"
   ]
  },
  {
   "cell_type": "markdown",
   "metadata": {},
   "source": [
    "## Problem Solving Iteration 2\n",
    "\n",
    "Now that we have consolidated the abilities fields, we can update the problem statement. The new problem statement is:\n",
    "\n",
    "### Which pokemon type is most likely to have the highest `Total` value?\n",
    "\n",
    "In the updated problem statement, we assume there is a certain relationship between the `Total` and the pokemon type. But we have two *type* fields (`Type 1` and `Type 2`) that have string values. In data analysis, string fields have to be transformed to numerical format in order to be analyzed. \n",
    "\n",
    "In addition, keep in mind that `Type 1` always has a value but `Type 2` is sometimes empty (having the `NaN` value). Also, the pokemon type we choose may be either in `Type 1` or `Type 2`.\n",
    "\n",
    "Now our expectation is:\n",
    "\n",
    "#### `Type 1` and `Type 2` string variables need to be converted to numerical variables in order to identify the relationship between `Total` and the pokemon type.\n",
    "\n",
    "The information we need to collect is:\n",
    "\n",
    "#### How to convert two string variables to numerical?\n",
    "\n",
    "Let's address the first question first. You can use a method called **One Hot Encoding** which is frequently used in machine learning to encode categorical string variables to numerical. The idea is to gather all the possible string values in a categorical field and create a numerical field for each unique string value. Each of those numerical fields uses `1` and `0` to indicate whether the data record has the corresponding categorical value. A detailed explanation of One Hot Encoding can be found in [this article](https://hackernoon.com/what-is-one-hot-encoding-why-and-when-do-you-have-to-use-it-e3c6186d008f). You will formally learn it in Module 3.\n",
    "\n",
    "For instance, if a pokemon has `Type 1` as `Poison` and `Type 2` as `Fire`, then its `Poison` and `Fire` fields are `1` whereas all other fields are `0`. If a pokemon has `Type 1` as `Water` and `Type 2` as `NaN`, then its `Water` field is `1` whereas all other fields are `0`.\n",
    "\n",
    "#### In the next cell, use One Hot Encoding to encode `Type 1` and `Type 2`. Use the pokemon type values as the names of the numerical fields you create.\n",
    "\n",
    "The new numerical variables you create should look like below:\n",
    "\n",
    "![One Hot Encoding](../images/one-hot-encoding.png)"
   ]
  },
  {
   "cell_type": "code",
   "execution_count": 6,
   "metadata": {},
   "outputs": [
    {
     "name": "stdout",
     "output_type": "stream",
     "text": [
      "   #                   Name Type 1  Type 2  Total  HP  Attack  Defense  \\\n",
      "0  1              Bulbasaur  Grass  Poison    318  45      49       49   \n",
      "1  2                Ivysaur  Grass  Poison    405  60      62       63   \n",
      "2  3               Venusaur  Grass  Poison    525  80      82       83   \n",
      "3  3  VenusaurMega Venusaur  Grass  Poison    625  80     100      123   \n",
      "4  4             Charmander   Fire     NaN    309  39      52       43   \n",
      "\n",
      "   Sp. Atk  Sp. Def  ...  Type_2_Ghost  Type_2_Grass  Type_2_Ground  \\\n",
      "0       65       65  ...             0             0              0   \n",
      "1       80       80  ...             0             0              0   \n",
      "2      100      100  ...             0             0              0   \n",
      "3      122      120  ...             0             0              0   \n",
      "4       60       50  ...             0             0              0   \n",
      "\n",
      "   Type_2_Ice  Type_2_Normal  Type_2_Poison  Type_2_Psychic  Type_2_Rock  \\\n",
      "0           0              0              1               0            0   \n",
      "1           0              0              1               0            0   \n",
      "2           0              0              1               0            0   \n",
      "3           0              0              1               0            0   \n",
      "4           0              0              0               0            0   \n",
      "\n",
      "   Type_2_Steel  Type_2_Water  \n",
      "0             0             0  \n",
      "1             0             0  \n",
      "2             0             0  \n",
      "3             0             0  \n",
      "4             0             0  \n",
      "\n",
      "[5 rows x 50 columns]\n"
     ]
    }
   ],
   "source": [
    "# One Hot Encoding for Type 1\n",
    "type1_encoded = pd.get_dummies(pokemon_df['Type 1'], prefix='Type_1')\n",
    "\n",
    "# One Hot Encoding for Type 2\n",
    "type2_encoded = pd.get_dummies(pokemon_df['Type 2'], prefix='Type_2')\n",
    "\n",
    "# Concatenate the encoded columns to the original dataframe\n",
    "pokemon_df_encoded = pd.concat([pokemon_df, type1_encoded, type2_encoded], axis=1)\n",
    "\n",
    "# Display the first few rows of the updated dataframe\n",
    "print(pokemon_df_encoded.head())"
   ]
  },
  {
   "cell_type": "markdown",
   "metadata": {},
   "source": [
    "## Problem Solving Iteration 3\n",
    "\n",
    "Now we have encoded the pokemon types, we will identify the relationship between `Total` and the encoded fields. Our expectation is:\n",
    "\n",
    "#### There are relationships between `Total` and the encoded pokemon type variables and we need to identify the correlations.\n",
    "\n",
    "The information we need to collect is:\n",
    "\n",
    "#### How to identify the relationship between `Total` and the encoded pokemon type fields?\n",
    "\n",
    "There are multiple ways to answer this question. The easiest way is to use correlation. In the cell below, calculate the correlation of `Total` to each of the encoded fields. Rank the correlations and identify the #1 pokemon type that is most likely to have the highest `Total`."
   ]
  },
  {
   "cell_type": "code",
   "execution_count": 7,
   "metadata": {},
   "outputs": [
    {
     "name": "stdout",
     "output_type": "stream",
     "text": [
      "Total              1.000000\n",
      "Type_1_Dragon      0.196532\n",
      "Type_1_Bug         0.143957\n",
      "Type_2_Fighting    0.138726\n",
      "Type_2_Dragon      0.115240\n",
      "Type_1_Normal      0.104150\n",
      "Type_2_Ice         0.100870\n",
      "Type_1_Psychic     0.094364\n",
      "Type_1_Steel       0.082000\n",
      "Type_2_Psychic     0.076054\n",
      "Type_2_Fire        0.073234\n",
      "Type_2_Steel       0.070307\n",
      "Type_2_Poison      0.067837\n",
      "Type_2_Dark        0.065844\n",
      "Type_1_Poison      0.057123\n",
      "Type_2_Flying      0.054048\n",
      "Type_1_Fire        0.050527\n",
      "Type_2_Grass       0.039224\n",
      "Type_1_Rock        0.037524\n",
      "Type_1_Grass       0.036057\n",
      "Type_1_Flying      0.029504\n",
      "Type_1_Fighting    0.029086\n",
      "Type_1_Fairy       0.026948\n",
      "Type_2_Fairy       0.024606\n",
      "Type_2_Bug         0.021375\n",
      "Type_2_Water       0.018800\n",
      "Type_1_Dark        0.017818\n",
      "Type_1_Electric    0.016715\n",
      "Type_2_Ground      0.016486\n",
      "Type_1_Water       0.015640\n",
      "Type_2_Electric    0.014669\n",
      "Type_2_Normal      0.013956\n",
      "Type_1_Ghost       0.007594\n",
      "Type_2_Ghost       0.004885\n",
      "Type_1_Ground      0.004082\n",
      "Type_1_Ice         0.002412\n",
      "Type_2_Rock        0.000512\n",
      "Name: Total, dtype: float64\n"
     ]
    }
   ],
   "source": [
    "# Calculate the correlation matrix\n",
    "correlation_matrix = pokemon_df_encoded[['Total'] + list(type1_encoded.columns) + list(type2_encoded.columns)].corr()\n",
    "\n",
    "# Extract the correlation of 'Total' with each encoded field\n",
    "total_correlations = correlation_matrix['Total']\n",
    "\n",
    "# Rank the correlations in descending order\n",
    "sorted_correlations = total_correlations.abs().sort_values(ascending=False)\n",
    "\n",
    "# Display the sorted correlations\n",
    "print(sorted_correlations)"
   ]
  },
  {
   "cell_type": "markdown",
   "metadata": {},
   "source": [
    "# Bonus Question\n",
    "\n",
    "Say now you can choose both `Type 1` and `Type 2` of the pokemon. In order to receive the best pokemon, which types will you choose?"
   ]
  },
  {
   "cell_type": "code",
   "execution_count": null,
   "metadata": {},
   "outputs": [],
   "source": [
    "# your code here"
   ]
  }
 ],
 "metadata": {
  "kernelspec": {
   "display_name": "Python [conda env:m1_env]",
   "language": "python",
   "name": "conda-env-m1_env-py"
  },
  "language_info": {
   "codemirror_mode": {
    "name": "ipython",
    "version": 3
   },
   "file_extension": ".py",
   "mimetype": "text/x-python",
   "name": "python",
   "nbconvert_exporter": "python",
   "pygments_lexer": "ipython3",
   "version": "3.9.16"
  }
 },
 "nbformat": 4,
 "nbformat_minor": 2
}
