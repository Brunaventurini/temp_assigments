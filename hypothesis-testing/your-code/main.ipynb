{
 "cells": [
  {
   "cell_type": "markdown",
   "metadata": {},
   "source": [
    "# Before you start:\n",
    "- Read the README.md file\n",
    "- Comment as much as you can and use the resources (README.md file)\n",
    "- Happy learning!"
   ]
  },
  {
   "cell_type": "code",
   "execution_count": 2,
   "metadata": {},
   "outputs": [],
   "source": [
    "# import numpy and pandas\n",
    "\n",
    "import pandas as pd\n"
   ]
  },
  {
   "cell_type": "markdown",
   "metadata": {},
   "source": [
    "# Challenge 1 - Exploring the Data\n",
    "\n",
    "In this challenge, we will examine all salaries of employees of the City of Chicago. We will start by loading the dataset and examining its contents. Please, load the data using Ironhack's database (db: employees, table: employees_advanced)."
   ]
  },
  {
   "cell_type": "code",
   "execution_count": 4,
   "metadata": {},
   "outputs": [
    {
     "name": "stdout",
     "output_type": "stream",
     "text": [
      "                  Name                              Job Titles  \\\n",
      "0    AARON,  JEFFERY M                                SERGEANT   \n",
      "1      AARON,  KARINA   POLICE OFFICER (ASSIGNED AS DETECTIVE)   \n",
      "2  AARON,  KIMBERLEI R                CHIEF CONTRACT EXPEDITER   \n",
      "3  ABAD JR,  VICENTE M                       CIVIL ENGINEER IV   \n",
      "4    ABASCAL,  REECE E             TRAFFIC CONTROL AIDE-HOURLY   \n",
      "\n",
      "         Department Full or Part-Time Salary or Hourly  Typical Hours  \\\n",
      "0            POLICE                 F           Salary            NaN   \n",
      "1            POLICE                 F           Salary            NaN   \n",
      "2  GENERAL SERVICES                 F           Salary            NaN   \n",
      "3       WATER MGMNT                 F           Salary            NaN   \n",
      "4              OEMC                 P           Hourly           20.0   \n",
      "\n",
      "   Annual Salary  Hourly Rate  \n",
      "0       101442.0          NaN  \n",
      "1        94122.0          NaN  \n",
      "2       101592.0          NaN  \n",
      "3       110064.0          NaN  \n",
      "4            NaN        19.86  \n"
     ]
    }
   ],
   "source": [
    "# Load the CSV file into a DataFrame\n",
    "csv_file = \"Current_Employee_Names__Salaries__and_Position_Titles.csv\"\n",
    "df = pd.read_csv(csv_file)\n",
    "\n",
    "# Display the first few rows of the DataFrame to get an overview\n",
    "print(df.head())"
   ]
  },
  {
   "cell_type": "markdown",
   "metadata": {},
   "source": [
    "Examine the `salaries` dataset using the `head` function below."
   ]
  },
  {
   "cell_type": "code",
   "execution_count": 8,
   "metadata": {},
   "outputs": [],
   "source": [
    "# Your code here:\n",
    "\n"
   ]
  },
  {
   "cell_type": "markdown",
   "metadata": {},
   "source": [
    "We see from looking at the `head` function that there is quite a bit of missing data. Let's examine how much missing data is in each column. Produce this output in the cell below"
   ]
  },
  {
   "cell_type": "code",
   "execution_count": 5,
   "metadata": {},
   "outputs": [
    {
     "name": "stdout",
     "output_type": "stream",
     "text": [
      "Name                     0\n",
      "Job Titles               0\n",
      "Department               0\n",
      "Full or Part-Time        0\n",
      "Salary or Hourly         0\n",
      "Typical Hours        25161\n",
      "Annual Salary         8022\n",
      "Hourly Rate          25161\n",
      "dtype: int64\n"
     ]
    }
   ],
   "source": [
    "# Calculate the number of missing values in each column\n",
    "missing_data = df.isnull().sum()\n",
    "\n",
    "# Display the missing data count for each column\n",
    "print(missing_data)"
   ]
  },
  {
   "cell_type": "markdown",
   "metadata": {},
   "source": [
    "Let's also look at the count of hourly vs. salaried employees. Write the code in the cell below"
   ]
  },
  {
   "cell_type": "code",
   "execution_count": 6,
   "metadata": {},
   "outputs": [
    {
     "name": "stdout",
     "output_type": "stream",
     "text": [
      "Salary    25161\n",
      "Hourly     8022\n",
      "Name: Salary or Hourly, dtype: int64\n"
     ]
    }
   ],
   "source": [
    "# Count the number of hourly vs. salaried employees\n",
    "employee_counts = df['Salary or Hourly'].value_counts()\n",
    "\n",
    "# Display the count of hourly and salaried employees\n",
    "print(employee_counts)"
   ]
  },
  {
   "cell_type": "markdown",
   "metadata": {},
   "source": [
    "What this information indicates is that the table contains information about two types of employees - salaried and hourly. Some columns apply only to one type of employee while other columns only apply to another kind. This is why there are so many missing values. Therefore, we will not do anything to handle the missing values."
   ]
  },
  {
   "cell_type": "markdown",
   "metadata": {},
   "source": [
    "There are different departments in the city. List all departments and the count of employees in each department."
   ]
  },
  {
   "cell_type": "code",
   "execution_count": 9,
   "metadata": {},
   "outputs": [
    {
     "name": "stdout",
     "output_type": "stream",
     "text": [
      "POLICE                   13414\n",
      "FIRE                      4641\n",
      "STREETS & SAN             2198\n",
      "OEMC                      2102\n",
      "WATER MGMNT               1879\n",
      "AVIATION                  1629\n",
      "TRANSPORTN                1140\n",
      "PUBLIC LIBRARY            1015\n",
      "GENERAL SERVICES           980\n",
      "FAMILY & SUPPORT           615\n",
      "FINANCE                    560\n",
      "HEALTH                     488\n",
      "CITY COUNCIL               411\n",
      "LAW                        407\n",
      "BUILDINGS                  269\n",
      "COMMUNITY DEVELOPMENT      207\n",
      "BUSINESS AFFAIRS           171\n",
      "COPA                       116\n",
      "BOARD OF ELECTION          107\n",
      "DoIT                        99\n",
      "PROCUREMENT                 92\n",
      "INSPECTOR GEN               87\n",
      "MAYOR'S OFFICE              85\n",
      "CITY CLERK                  84\n",
      "ANIMAL CONTRL               81\n",
      "HUMAN RESOURCES             79\n",
      "CULTURAL AFFAIRS            65\n",
      "BUDGET & MGMT               46\n",
      "ADMIN HEARNG                39\n",
      "DISABILITIES                28\n",
      "TREASURER                   22\n",
      "HUMAN RELATIONS             16\n",
      "BOARD OF ETHICS              8\n",
      "POLICE BOARD                 2\n",
      "LICENSE APPL COMM            1\n",
      "Name: Department, dtype: int64\n"
     ]
    }
   ],
   "source": [
    "# Group the data by the \"Department\" column and count the number of employees in each department\n",
    "department_counts = df['Department'].value_counts()\n",
    "\n",
    "# Display the list of departments and the count of employees in each department\n",
    "print(department_counts)"
   ]
  },
  {
   "cell_type": "markdown",
   "metadata": {},
   "source": [
    "# Challenge 2 - Hypothesis Tests\n",
    "\n",
    "In this section of the lab, we will test whether the hourly wage of all hourly workers is significantly different from $30/hr. Import the correct one sample test function from scipy and perform the hypothesis test for a 95% two sided confidence interval."
   ]
  },
  {
   "cell_type": "code",
   "execution_count": 11,
   "metadata": {},
   "outputs": [
    {
     "name": "stdout",
     "output_type": "stream",
     "text": [
      "The hourly wage of hourly workers is significantly different from $30/hr.\n"
     ]
    }
   ],
   "source": [
    "import pandas as pd\n",
    "from scipy import stats\n",
    "\n",
    "# Load the CSV file into a DataFrame\n",
    "csv_file = \"Current_Employee_Names__Salaries__and_Position_Titles.csv\"\n",
    "df = pd.read_csv(csv_file)\n",
    "\n",
    "# Extract the hourly rates for all hourly workers\n",
    "hourly_wages = df[df['Salary or Hourly'] == 'Hourly']['Hourly Rate']\n",
    "\n",
    "# Perform the one-sample t-test\n",
    "# Null hypothesis (H0): The mean hourly wage is $30/hr\n",
    "# Alternative hypothesis (H1): The mean hourly wage is not equal to $30/hr\n",
    "t_statistic, p_value = stats.ttest_1samp(hourly_wages, 30)\n",
    "\n",
    "# Define the significance level (alpha)\n",
    "alpha = 0.05  # 95% confidence level\n",
    "\n",
    "# Check if the p-value is less than alpha (two-tailed test)\n",
    "if p_value < alpha:\n",
    "    print(\"The hourly wage of hourly workers is significantly different from $30/hr.\")\n",
    "else:\n",
    "    print(\"There is no significant difference in the hourly wage of hourly workers and $30/hr.\")\n"
   ]
  },
  {
   "cell_type": "markdown",
   "metadata": {},
   "source": [
    "We are also curious about salaries in the police force. The chief of police in Chicago claimed in a press briefing that salaries this year are higher than last year's mean of $86000/year a year for all salaried employees. Test this one sided hypothesis using a 95% confidence interval.\n",
    "\n",
    "Hint: A one tailed test has a p-value that is half of the two tailed p-value. If our hypothesis is greater than, then to reject, the test statistic must also be positive."
   ]
  },
  {
   "cell_type": "code",
   "execution_count": 17,
   "metadata": {},
   "outputs": [
    {
     "name": "stdout",
     "output_type": "stream",
     "text": [
      "The salaries in the police force this year are higher than last year's mean of $86,000/year.\n"
     ]
    }
   ],
   "source": [
    "# Extract salaries of police force employees\n",
    "police_salaries = df[(df['Salary or Hourly'] == 'Salary') & (df['Department'] == 'POLICE')]['Annual Salary']\n",
    "\n",
    "# Perform the one-sample t-test\n",
    "# Null hypothesis (H0): The mean salary of police force employees is less than or equal to $86,000/year\n",
    "# Alternative hypothesis (H1): The mean salary of police force employees is greater than $86,000/year\n",
    "t_statistic, p_value = stats.ttest_1samp(police_salaries, 86000)\n",
    "\n",
    "# Define the significance level (alpha)\n",
    "alpha = 0.05  # 95% confidence level\n",
    "\n",
    "# Calculate the one-tailed p-value (since it's a one-sided test)\n",
    "one_tailed_p_value = p_value / 2\n",
    "\n",
    "# Check if the one-tailed p-value is less than alpha and if the t-statistic is positive\n",
    "if one_tailed_p_value < alpha and t_statistic > 0:\n",
    "    print(\"The salaries in the police force this year are higher than last year's mean of $86,000/year.\")\n",
    "else:\n",
    "    print(\"There is not enough evidence to conclude that salaries in the police force this year are higher than $86,000/year.\")"
   ]
  },
  {
   "cell_type": "markdown",
   "metadata": {},
   "source": [
    "Using the `crosstab` function, find the department that has the most hourly workers. "
   ]
  },
  {
   "cell_type": "code",
   "execution_count": 18,
   "metadata": {},
   "outputs": [
    {
     "name": "stdout",
     "output_type": "stream",
     "text": [
      "Department with the most hourly workers: STREETS & SAN\n"
     ]
    }
   ],
   "source": [
    "# Create a cross-tabulation table to count the number of hourly workers in each department\n",
    "cross_tab = pd.crosstab(df['Department'], df['Salary or Hourly'])\n",
    "\n",
    "# Extract the count of hourly workers\n",
    "hourly_worker_counts = cross_tab['Hourly']\n",
    "\n",
    "# Find the department with the most hourly workers\n",
    "department_with_most_hourly_workers = hourly_worker_counts.idxmax()\n",
    "\n",
    "# Display the department with the most hourly workers\n",
    "print(\"Department with the most hourly workers:\", department_with_most_hourly_workers)"
   ]
  },
  {
   "cell_type": "markdown",
   "metadata": {},
   "source": [
    "The workers from the department with the most hourly workers have complained that their hourly wage is less than $35/hour. Using a one sample t-test, test this one-sided hypothesis at the 95% confidence level."
   ]
  },
  {
   "cell_type": "code",
   "execution_count": 19,
   "metadata": {},
   "outputs": [
    {
     "name": "stdout",
     "output_type": "stream",
     "text": [
      "The workers from the department with the most hourly workers have an hourly wage less than $35/hour.\n"
     ]
    }
   ],
   "source": [
    "# Determine the department with the most hourly workers\n",
    "cross_tab = pd.crosstab(df['Department'], df['Salary or Hourly'])\n",
    "department_with_most_hourly_workers = cross_tab['Hourly'].idxmax()\n",
    "\n",
    "# Extract hourly wages for employees in the department with the most hourly workers\n",
    "hourly_wages = df[(df['Department'] == department_with_most_hourly_workers) & (df['Salary or Hourly'] == 'Hourly')]['Hourly Rate']\n",
    "\n",
    "# Perform the one-sample t-test\n",
    "# Null hypothesis (H0): The mean hourly wage of workers in the department is greater than or equal to $35/hour\n",
    "# Alternative hypothesis (H1): The mean hourly wage of workers in the department is less than $35/hour\n",
    "t_statistic, p_value = stats.ttest_1samp(hourly_wages, 35)\n",
    "\n",
    "# Define the significance level (alpha)\n",
    "alpha = 0.05  # 95% confidence level\n",
    "\n",
    "# Check if the one-tailed p-value is less than alpha and if the t-statistic is negative\n",
    "if p_value / 2 < alpha and t_statistic < 0:\n",
    "    print(\"The workers from the department with the most hourly workers have an hourly wage less than $35/hour.\")\n",
    "else:\n",
    "    print(\"There is not enough evidence to conclude that the hourly wage is less than $35/hour for workers in the department with the most hourly workers.\")\n"
   ]
  },
  {
   "cell_type": "markdown",
   "metadata": {},
   "source": [
    "# Challenge 3: To practice - Constructing Confidence Intervals\n",
    "\n",
    "While testing our hypothesis is a great way to gather empirical evidence for accepting or rejecting the hypothesis, another way to gather evidence is by creating a confidence interval. A confidence interval gives us information about the true mean of the population. So for a 95% confidence interval, we are 95% sure that the mean of the population is within the confidence interval. \n",
    ").\n",
    "\n",
    "To read more about confidence intervals, click [here](https://en.wikipedia.org/wiki/Confidence_interval).\n",
    "\n",
    "\n",
    "In the cell below, we will construct a 95% confidence interval for the mean hourly wage of all hourly workers. \n",
    "\n",
    "The confidence interval is computed in SciPy using the `t.interval` function. You can read more about this function [here](https://docs.scipy.org/doc/scipy-0.14.0/reference/generated/scipy.stats.t.html).\n",
    "\n",
    "To compute the confidence interval of the hourly wage, use the 0.95 for the confidence level, number of rows - 1 for degrees of freedom, the mean of the sample for the location parameter and the standard error for the scale. The standard error can be computed using [this](https://docs.scipy.org/doc/scipy/reference/generated/scipy.stats.sem.html) function in SciPy."
   ]
  },
  {
   "cell_type": "code",
   "execution_count": 20,
   "metadata": {},
   "outputs": [
    {
     "name": "stdout",
     "output_type": "stream",
     "text": [
      "95% Confidence Interval for Mean Hourly Wage: (32.52345834488425, 33.05365708767623)\n"
     ]
    }
   ],
   "source": [
    "# Extract hourly wages for all hourly workers\n",
    "hourly_wages = df[df['Salary or Hourly'] == 'Hourly']['Hourly Rate']\n",
    "\n",
    "# Calculate the confidence interval\n",
    "confidence_level = 0.95\n",
    "degrees_of_freedom = len(hourly_wages) - 1\n",
    "sample_mean = hourly_wages.mean()\n",
    "standard_error = stats.sem(hourly_wages)\n",
    "\n",
    "# Compute the confidence interval\n",
    "confidence_interval = stats.t.interval(confidence_level, degrees_of_freedom, loc=sample_mean, scale=standard_error)\n",
    "\n",
    "# Display the confidence interval\n",
    "print(\"95% Confidence Interval for Mean Hourly Wage:\", confidence_interval)"
   ]
  },
  {
   "cell_type": "markdown",
   "metadata": {},
   "source": [
    "Now construct the 95% confidence interval for all salaried employeed in the police in the cell below."
   ]
  },
  {
   "cell_type": "code",
   "execution_count": 21,
   "metadata": {},
   "outputs": [
    {
     "name": "stdout",
     "output_type": "stream",
     "text": [
      "95% Confidence Interval for Mean Annual Salary (Police Department): (86177.05631531784, 86795.77269094894)\n"
     ]
    }
   ],
   "source": [
    "\n",
    "# Extract annual salaries for all salaried employees in the police department\n",
    "police_salaries = df[(df['Salary or Hourly'] == 'Salary') & (df['Department'] == 'POLICE')]['Annual Salary']\n",
    "\n",
    "# Calculate the confidence interval\n",
    "confidence_level = 0.95\n",
    "degrees_of_freedom = len(police_salaries) - 1\n",
    "sample_mean = police_salaries.mean()\n",
    "standard_error = stats.sem(police_salaries)\n",
    "\n",
    "# Compute the confidence interval\n",
    "confidence_interval = stats.t.interval(confidence_level, degrees_of_freedom, loc=sample_mean, scale=standard_error)\n",
    "\n",
    "# Display the confidence interval\n",
    "print(\"95% Confidence Interval for Mean Annual Salary (Police Department):\", confidence_interval)\n"
   ]
  },
  {
   "cell_type": "markdown",
   "metadata": {},
   "source": [
    "# Bonus Challenge - Hypothesis Tests of Proportions\n",
    "\n",
    "Another type of one sample test is a hypothesis test of proportions. In this test, we examine whether the proportion of a group in our sample is significantly different than a fraction. \n",
    "\n",
    "You can read more about one sample proportion tests [here](http://sphweb.bumc.bu.edu/otlt/MPH-Modules/BS/SAS/SAS6-CategoricalData/SAS6-CategoricalData2.html).\n",
    "\n",
    "In the cell below, use the `proportions_ztest` function from `statsmodels` to perform a hypothesis test that will determine whether the number of hourly workers in the City of Chicago is significantly different from 25% at the 95% confidence level."
   ]
  },
  {
   "cell_type": "code",
   "execution_count": 13,
   "metadata": {},
   "outputs": [],
   "source": [
    "# Your code here:\n",
    "\n"
   ]
  }
 ],
 "metadata": {
  "kernelspec": {
   "display_name": "Python [conda env:m2_env]",
   "language": "python",
   "name": "conda-env-m2_env-py"
  },
  "language_info": {
   "codemirror_mode": {
    "name": "ipython",
    "version": 3
   },
   "file_extension": ".py",
   "mimetype": "text/x-python",
   "name": "python",
   "nbconvert_exporter": "python",
   "pygments_lexer": "ipython3",
   "version": "3.11.2"
  }
 },
 "nbformat": 4,
 "nbformat_minor": 2
}
