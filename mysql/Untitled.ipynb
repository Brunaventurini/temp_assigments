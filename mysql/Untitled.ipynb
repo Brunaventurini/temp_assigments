{
 "cells": [
  {
   "cell_type": "code",
   "execution_count": 1,
   "id": "0a732527",
   "metadata": {},
   "outputs": [
    {
     "ename": "SyntaxError",
     "evalue": "invalid syntax (1921466704.py, line 1)",
     "output_type": "error",
     "traceback": [
      "\u001b[1;36m  Cell \u001b[1;32mIn[1], line 1\u001b[1;36m\u001b[0m\n\u001b[1;33m    pip install mysql-connector-python\u001b[0m\n\u001b[1;37m        ^\u001b[0m\n\u001b[1;31mSyntaxError\u001b[0m\u001b[1;31m:\u001b[0m invalid syntax\n"
     ]
    }
   ],
   "source": [
    "-- Create the Cars table\n",
    "CREATE TABLE Cars (\n",
    "    CarID INT AUTO_INCREMENT PRIMARY KEY,\n",
    "    VIN VARCHAR(17) NOT NULL,\n",
    "    Manufacturer VARCHAR(255) NOT NULL,\n",
    "    Model VARCHAR(255) NOT NULL,\n",
    "    Year INT NOT NULL,\n",
    "    Color VARCHAR(255) NOT NULL\n",
    ");\n",
    "\n",
    "-- Create the Customers table\n",
    "CREATE TABLE Customers (\n",
    "    CustomerID INT AUTO_INCREMENT PRIMARY KEY,\n",
    "    Name VARCHAR(255) NOT NULL,\n",
    "    PhoneNumber VARCHAR(20) NOT NULL,\n",
    "    Email VARCHAR(255) NOT NULL,\n",
    "    Address VARCHAR(255) NOT NULL,\n",
    "    City VARCHAR(255) NOT NULL,\n",
    "    StateProvince VARCHAR(255) NOT NULL,\n",
    "    Country VARCHAR(255) NOT NULL,\n",
    "    ZipPostalCode VARCHAR(20) NOT NULL\n",
    ");\n",
    "\n",
    "-- Create the Salespersons table\n",
    "CREATE TABLE Salespersons (\n",
    "    StaffID INT AUTO_INCREMENT PRIMARY KEY,\n",
    "    Name VARCHAR(255) NOT NULL,\n",
    "    Store VARCHAR(255) NOT NULL\n",
    ");\n",
    "\n",
    "-- Create the Invoices table\n",
    "CREATE TABLE Invoices (\n",
    "    InvoiceNumber INT AUTO_INCREMENT PRIMARY KEY,\n",
    "    Date DATE NOT NULL,\n",
    "    CarID INT,\n",
    "    CustomerID INT,\n",
    "    StaffID INT,\n",
    "    FOREIGN KEY (CarID) REFERENCES Cars(CarID),\n",
    "    FOREIGN KEY (CustomerID) REFERENCES Customers(CustomerID),\n",
    "    FOREIGN KEY (StaffID) REFERENCES Salespersons(StaffID)\n",
    ");\n"
   ]
  },
  {
   "cell_type": "code",
   "execution_count": null,
   "id": "4e6a564c",
   "metadata": {},
   "outputs": [],
   "source": []
  }
 ],
 "metadata": {
  "kernelspec": {
   "display_name": "Python 3 (ipykernel)",
   "language": "python",
   "name": "python3"
  },
  "language_info": {
   "codemirror_mode": {
    "name": "ipython",
    "version": 3
   },
   "file_extension": ".py",
   "mimetype": "text/x-python",
   "name": "python",
   "nbconvert_exporter": "python",
   "pygments_lexer": "ipython3",
   "version": "3.9.16"
  }
 },
 "nbformat": 4,
 "nbformat_minor": 5
}
